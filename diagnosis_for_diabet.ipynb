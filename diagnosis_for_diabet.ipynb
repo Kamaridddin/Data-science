{
  "nbformat": 4,
  "nbformat_minor": 0,
  "metadata": {
    "colab": {
      "name": "diagnosis.for.diabet.ipynb",
      "private_outputs": true,
      "provenance": [],
      "collapsed_sections": [],
      "authorship_tag": "ABX9TyP1r9pVB4aeu9J5WGQWUImL",
      "include_colab_link": true
    },
    "kernelspec": {
      "name": "python3",
      "display_name": "Python 3"
    },
    "language_info": {
      "name": "python"
    }
  },
  "cells": [
    {
      "cell_type": "markdown",
      "metadata": {
        "id": "view-in-github",
        "colab_type": "text"
      },
      "source": [
        "<a href=\"https://colab.research.google.com/github/Kamaridddin/Data-science/blob/main/diagnosis_for_diabet.ipynb\" target=\"_parent\"><img src=\"https://colab.research.google.com/assets/colab-badge.svg\" alt=\"Open In Colab\"/></a>"
      ]
    },
    {
      "cell_type": "code",
      "execution_count": null,
      "metadata": {
        "id": "cL5YxgkJ5_xQ"
      },
      "outputs": [],
      "source": [
        "import numpy as np\n",
        "import pandas as pd\n",
        "import matplotlib.pyplot as plt\n",
        "plt.style.use(\"seaborn-whitegrid\")\n",
        "import seaborn as sns\n",
        "from collections import Counter\n",
        "import warnings\n",
        "warnings.filterwarnings(\"ignore\")"
      ]
    },
    {
      "cell_type": "code",
      "source": [
        "url =\"https://raw.githubusercontent.com/anvarnarz/praktikum_datasets/04267bce66c3b9b0a2f301a10888a81ed19c9c70/diabetes.csv\"\n",
        "df = pd.read_csv(url)\n",
        "df.sample(10)"
      ],
      "metadata": {
        "id": "llz2e6-b6OS4"
      },
      "execution_count": null,
      "outputs": []
    },
    {
      "cell_type": "code",
      "source": [
        "df.tail()"
      ],
      "metadata": {
        "id": "BMfxv3I0cSe-"
      },
      "execution_count": null,
      "outputs": []
    },
    {
      "cell_type": "code",
      "source": [
        "df.columns"
      ],
      "metadata": {
        "id": "rCwgaEzO6i41"
      },
      "execution_count": null,
      "outputs": []
    },
    {
      "cell_type": "code",
      "source": [
        "df.info()"
      ],
      "metadata": {
        "id": "-QD3yV8YcbmD"
      },
      "execution_count": null,
      "outputs": []
    },
    {
      "cell_type": "code",
      "source": [
        "def plot_hist(df,feature):\n",
        "    plt.hist(df[feature], bins = 50)\n",
        "    plt.xlabel(feature)\n",
        "    plt.ylabel(\"Frequency\")\n",
        "    plt.title(\"{}distribution with hist\".format(feature))\n",
        "    plt.show()"
      ],
      "metadata": {
        "id": "wcT-Fz0Hcgey"
      },
      "execution_count": null,
      "outputs": []
    },
    {
      "cell_type": "code",
      "source": [
        "numericVar = df.columns[:-1]\n",
        "for n in numericVar:\n",
        "    plot_hist(df, n)"
      ],
      "metadata": {
        "id": "k6FyZFQsebAe"
      },
      "execution_count": null,
      "outputs": []
    },
    {
      "cell_type": "code",
      "source": [
        "def ZEROs(df):\n",
        "    print(\"               # of ZEROs  \\t Length \\t  Percent \"  )\n",
        "    print(\"------------------------------------------------------\"  )\n",
        "\n",
        "    for i in range(6) :\n",
        "        feature=df[df.columns[i]]\n",
        "        ZeroSum=(feature==0).sum()\n",
        "        Percent=int(round((ZeroSum/(len(feature)))*100))\n",
        "        print(df.columns[i], \"\\t:\", ZeroSum , \"\\t\\t:\", len(feature), \"\\t \\t:\", Percent,\"% \"  )"
      ],
      "metadata": {
        "id": "QHeYRL25fPS5"
      },
      "execution_count": null,
      "outputs": []
    },
    {
      "cell_type": "code",
      "source": [
        "ZEROs(df)"
      ],
      "metadata": {
        "id": "nJ7C3f64kup2"
      },
      "execution_count": null,
      "outputs": []
    },
    {
      "cell_type": "code",
      "source": [
        "X = df.iloc[:, :-1]\n",
        "y = df.iloc[:, -1]"
      ],
      "metadata": {
        "id": "givLAJgKlBDy"
      },
      "execution_count": null,
      "outputs": []
    },
    {
      "cell_type": "code",
      "source": [
        "from sklearn.impute import SimpleImputer\n",
        "imputer = SimpleImputer(missing_values = 0, strategy = 'median')\n",
        "\n",
        "X = imputer.fit_transform(X)\n",
        "X = pd.DataFrame(X, columns=df.columns[: -1])\n",
        "df = pd.concat([X, y], axis=1)\n",
        "df2 = df"
      ],
      "metadata": {
        "id": "g2SbgWsjlWGV"
      },
      "execution_count": null,
      "outputs": []
    },
    {
      "cell_type": "code",
      "source": [
        "ZEROs(df)"
      ],
      "metadata": {
        "id": "w4G9WHt7p89F"
      },
      "execution_count": null,
      "outputs": []
    },
    {
      "cell_type": "code",
      "source": [
        "pd.options.display.float_format = \"{:,.0f}\".format\n",
        "df"
      ],
      "metadata": {
        "id": "wFcsHK3cqAUW"
      },
      "execution_count": null,
      "outputs": []
    },
    {
      "cell_type": "code",
      "source": [
        "numericVar = df\n",
        "for n in numericVar:\n",
        "  plot_hist(df, n)"
      ],
      "metadata": {
        "id": "lUel6mJ4rLKY"
      },
      "execution_count": null,
      "outputs": []
    },
    {
      "cell_type": "code",
      "source": [
        "round(df.describe(), 1)"
      ],
      "metadata": {
        "id": "GF-0D75qrtzz"
      },
      "execution_count": null,
      "outputs": []
    },
    {
      "cell_type": "markdown",
      "source": [
        " **Outlier Detection**"
      ],
      "metadata": {
        "id": "EhW5PMyH-LtS"
      }
    },
    {
      "cell_type": "code",
      "source": [
        "def detect_outliers(df, features):\n",
        "    outlier_indices = []\n",
        "    \n",
        "    for c in features:\n",
        "        # 1st quartile Q1\n",
        "        Q1 = np.percentile(df[c], 25)\n",
        "        # 3st quartile Q3\n",
        "        Q3 = np.percentile(df[c], 75)\n",
        "        # IQR\n",
        "        IQR = Q3 - Q1\n",
        "        # Outlier step\n",
        "        outlier_step = IQR * 1.5\n",
        "        # detect outlier and their indices\n",
        "        outlier_list_col = df[(df[c] < Q1 - outlier_step) | (df[c] > Q3 + outlier_step)].index\n",
        "        # store indices\n",
        "        outlier_indices.extend(outlier_list_col)\n",
        "        \n",
        "    outlier_indices = Counter(outlier_indices)\n",
        "    multiple_outliers = list(i for i, v in outlier_indices.items() if v > 2)\n",
        "    \n",
        "    return multiple_outliers"
      ],
      "metadata": {
        "id": "BWJBrsAHsLRt"
      },
      "execution_count": null,
      "outputs": []
    },
    {
      "cell_type": "code",
      "source": [
        "df.loc[detect_outliers(df, ['Pregnancies', 'Glucose', 'BloodPressure', 'SkinThickness', 'Insulin',\n",
        "       'BMI', 'DiabetesPedigreeFunction', 'Age'])]"
      ],
      "metadata": {
        "id": "fzRxxsot-SVq"
      },
      "execution_count": null,
      "outputs": []
    },
    {
      "cell_type": "code",
      "source": [
        "#Drop outliers\n",
        "df = df.drop(detect_outliers(df, ['Pregnancies', 'Glucose', 'BloodPressure', 'SkinThickness', 'Insulin', 'BMI', 'DiabetesPedigreeFunction', 'Age']), axis=0 ).reset_index(drop=True)"
      ],
      "metadata": {
        "id": "Li9G3kDeB20a"
      },
      "execution_count": null,
      "outputs": []
    },
    {
      "cell_type": "code",
      "source": [
        "list1 = ['Pregnancies', 'Glucose', 'BloodPressure', 'SkinThickness', 'Insulin',\n",
        "       'BMI', 'DiabetesPedigreeFunction', 'Age']"
      ],
      "metadata": {
        "id": "jel6zwVnVmBq"
      },
      "execution_count": null,
      "outputs": []
    },
    {
      "cell_type": "code",
      "source": [
        "sns.heatmap(df[list1].corr(), annot=True, cmap='Blues', fmt = \".2f\")\n",
        "plt.show()"
      ],
      "metadata": {
        "id": "gfUptE2DWC2R"
      },
      "execution_count": null,
      "outputs": []
    },
    {
      "cell_type": "code",
      "source": [
        "sns.heatmap(df.corr(), annot=True, cmap='Blues', fmt=\".2f\")\n",
        "plt.show()"
      ],
      "metadata": {
        "id": "_MeAZGK7WgJC"
      },
      "execution_count": null,
      "outputs": []
    },
    {
      "cell_type": "markdown",
      "source": [
        "**Outliers and Skew check**"
      ],
      "metadata": {
        "id": "YLxL4zAjXN25"
      }
    },
    {
      "cell_type": "code",
      "source": [
        "x=X\n",
        "for i in x:\n",
        "    g = sns.distplot(x[i], color = \"b\", label = \"Skewness : %.2f\"%(x[i].skew()))\n",
        "    g = g.legend(loc = \"best\")\n",
        "    plt.show()"
      ],
      "metadata": {
        "id": "aCaLONLzW4fQ"
      },
      "execution_count": null,
      "outputs": []
    },
    {
      "cell_type": "code",
      "source": [
        "for i in X:\n",
        "    g = sns.FacetGrid(df, col = \"Outcome\")\n",
        "    g.map(sns.distplot, i, bins= 25)        \n",
        "    plt.show()"
      ],
      "metadata": {
        "id": "H_39gx86XXhq"
      },
      "execution_count": null,
      "outputs": []
    },
    {
      "cell_type": "code",
      "source": [
        "def plotHistogram(values,label,feature,title):\n",
        "    sns.set_style(\"whitegrid\")\n",
        "    plotOne = sns.FacetGrid(values, hue=label,aspect=2)\n",
        "    plotOne.map(sns.distplot,feature,kde=False)\n",
        "    plotOne.set(xlim=(0, values[feature].max()))\n",
        "    plotOne.add_legend()\n",
        "    plotOne.set_axis_labels(feature, 'Proportion')\n",
        "    plotOne.fig.suptitle(title)\n",
        "    plt.show()\n",
        "for i in X:\n",
        "    plotHistogram(df,\"Outcome\",i,' Diagnosis (Blue = Healthy; Orange = Diabetes)')"
      ],
      "metadata": {
        "id": "W96dBCY0o7Wn"
      },
      "execution_count": null,
      "outputs": []
    },
    {
      "cell_type": "code",
      "source": [
        "for i in X.columns[:-1]:\n",
        "  sns.factorplot(x=\"Age\", y=i, hue = \"Outcome\", data = df)\n",
        "  plt.show()"
      ],
      "metadata": {
        "id": "83SY02fbrZpg"
      },
      "execution_count": null,
      "outputs": []
    },
    {
      "cell_type": "code",
      "source": [
        "Ls = [\"Pregnancies\", 'BloodPressure', 'SkinThickness', 'Insulin', 'BMI', 'DiabetesPedigreeFunction', 'Age']\n",
        "\n",
        "for i in Ls:\n",
        "  sns.factorplot(x=i, y=\"Glucose\", hue = \"Outcome\", data=df)\n",
        "  plt.show()"
      ],
      "metadata": {
        "id": "bvxSv_PrtFM0"
      },
      "execution_count": null,
      "outputs": []
    },
    {
      "cell_type": "markdown",
      "source": [
        "Train test split"
      ],
      "metadata": {
        "id": "3eT1J2nYaZM5"
      }
    },
    {
      "cell_type": "code",
      "source": [
        "from sklearn.model_selection import train_test_split\n",
        "X_train, X_test, y_train, y_test = train_test_split(X, y, test_size=0.2, random_state=1)"
      ],
      "metadata": {
        "id": "gR7LdG37aeMK"
      },
      "execution_count": null,
      "outputs": []
    },
    {
      "cell_type": "code",
      "source": [
        "print(\"X_train\", X_train.shape)\n",
        "print(\"X_test\", X_test.shape)\n",
        "print(\"y_train\", y_train.shape)\n",
        "print(\"y_test\", y_test.shape)"
      ],
      "metadata": {
        "id": "siK4o43ubBfl"
      },
      "execution_count": null,
      "outputs": []
    },
    {
      "cell_type": "code",
      "source": [
        "from sklearn.preprocessing import StandardScaler\n",
        "scale = StandardScaler()"
      ],
      "metadata": {
        "id": "oRIam-c5bols"
      },
      "execution_count": null,
      "outputs": []
    },
    {
      "cell_type": "code",
      "source": [
        "X_train = scale.fit_transform(X_train)\n",
        "X_test = scale.transform(X_test)\n"
      ],
      "metadata": {
        "id": "n3B0X34rcFxt"
      },
      "execution_count": null,
      "outputs": []
    },
    {
      "cell_type": "code",
      "source": [
        "from sklearn.linear_model import LogisticRegression\n",
        "log_model = LogisticRegression()"
      ],
      "metadata": {
        "id": "t9OMNqmBchXV"
      },
      "execution_count": null,
      "outputs": []
    },
    {
      "cell_type": "code",
      "source": [
        "log_model.fit(X_train, y_train)\n",
        "y_pred = log_model.predict(X_test)\n",
        "y_train_pred = log_model.predict(X_train)"
      ],
      "metadata": {
        "id": "E0fhwNV9c3vD"
      },
      "execution_count": null,
      "outputs": []
    },
    {
      "cell_type": "code",
      "source": [
        "print(\"log_model.coef_:\", log_model.coef_,  \"\\nlog_model.intercept_\")"
      ],
      "metadata": {
        "id": "FHd8U_eTdTXY"
      },
      "execution_count": null,
      "outputs": []
    },
    {
      "cell_type": "code",
      "source": [
        "from sklearn.metrics import precision_score, recall_score, accuracy_score, f1_score"
      ],
      "metadata": {
        "id": "O0LmEtyvdqZA"
      },
      "execution_count": null,
      "outputs": []
    },
    {
      "cell_type": "code",
      "source": [
        "scr=[precision_score, recall_score, accuracy_score, f1_score]\n",
        "for i in scr:\n",
        "  print(i(y_train, y_train_pred))"
      ],
      "metadata": {
        "id": "sdXk8id-eCQ-"
      },
      "execution_count": null,
      "outputs": []
    },
    {
      "cell_type": "code",
      "source": [
        "for i in scr:\n",
        "  print(i(y_pred, y_test))"
      ],
      "metadata": {
        "id": "W-YT9L8HeP2W"
      },
      "execution_count": null,
      "outputs": []
    },
    {
      "cell_type": "code",
      "source": [
        "print(\"f1_score(y_train, y_train_pred, average=weighted) \\t :\", f1_score(y_train, y_train_pred, average=\"weighted\"))\n",
        "print(\"f1_score(y_test, y_pred, average=weighted)\\t\\t :\", f1_score(y_test, y_pred, average=\"weighted\"))"
      ],
      "metadata": {
        "id": "uLCCUCmgfGR8"
      },
      "execution_count": null,
      "outputs": []
    },
    {
      "cell_type": "code",
      "source": [
        "from sklearn.metrics import confusion_matrix, plot_confusion_matrix,plot_roc_curve\n",
        "confusion_matrix(y_test, y_pred)"
      ],
      "metadata": {
        "id": "5_90rxaVnRz4"
      },
      "execution_count": null,
      "outputs": []
    },
    {
      "cell_type": "code",
      "source": [
        "plot_confusion_matrix(log_model, X_test, y_test)"
      ],
      "metadata": {
        "id": "kYmGEEyUn7GZ"
      },
      "execution_count": null,
      "outputs": []
    },
    {
      "cell_type": "code",
      "source": [
        "plot_confusion_matrix(log_model, X_test, y_test, normalize=\"all\")"
      ],
      "metadata": {
        "id": "m543cVMzob9s"
      },
      "execution_count": null,
      "outputs": []
    },
    {
      "cell_type": "code",
      "source": [
        "from sklearn.model_selection import cross_val_score, cross_validate"
      ],
      "metadata": {
        "id": "EBjGdN67o5yW"
      },
      "execution_count": null,
      "outputs": []
    },
    {
      "cell_type": "code",
      "source": [
        "model = LogisticRegression()"
      ],
      "metadata": {
        "id": "SENvrg2CpXkg"
      },
      "execution_count": null,
      "outputs": []
    },
    {
      "cell_type": "code",
      "source": [
        "scores = cross_val_score(model, X_train, y_train, cv = 10)\n",
        "print(\"Cross- validation mean of accuracy scores\", scores.mean())\n",
        "print(\"\")\n",
        "print(scores)"
      ],
      "metadata": {
        "id": "Tj7FoFlIpcn5"
      },
      "execution_count": null,
      "outputs": []
    },
    {
      "cell_type": "code",
      "source": [
        "scores = cross_val_score(model, X_test, y_test, cv= 10)\n",
        "print(\"Cross- validation mean of accuracy scores\", scores.mean())\n",
        "print(\"\")\n",
        "print(scores)"
      ],
      "metadata": {
        "id": "EqAEufmyqCpV"
      },
      "execution_count": null,
      "outputs": []
    },
    {
      "cell_type": "code",
      "source": [
        "pd.options.display.float_format = \"{:,.4f}\".format\n",
        "model = LogisticRegression()\n",
        "\n",
        "scores = cross_validate(model, X_train, y_train, scoring = [\"accuracy\", \"precision_weighted\", \"recall_weighted\", \n",
        "                                                               \"f1_weighted\"], cv = 10)\n",
        "df_scores = pd.DataFrame(scores, index= range(1, 11))\n",
        "df_scores"
      ],
      "metadata": {
        "id": "R0bzPfz2q1NQ"
      },
      "execution_count": null,
      "outputs": []
    },
    {
      "cell_type": "code",
      "source": [
        "df_scores.mean()[2:]"
      ],
      "metadata": {
        "id": "ZearpUHDq8OI"
      },
      "execution_count": null,
      "outputs": []
    },
    {
      "cell_type": "code",
      "source": [
        "model = LogisticRegression()\n",
        "\n",
        "scores = cross_validate(model, X_test, y_test, scoring = [\"accuracy\", \"precision_weighted\", \"recall_weighted\", \n",
        "                                                               \"f1_weighted\"], cv = 10)\n",
        "df_scores = pd.DataFrame(scores, index= range(1, 11))\n",
        "df_scores"
      ],
      "metadata": {
        "id": "gZWZ4cnZsIGC"
      },
      "execution_count": null,
      "outputs": []
    },
    {
      "cell_type": "code",
      "source": [
        "df_scores.mean()[2:]"
      ],
      "metadata": {
        "id": "EXO-JF59tI2x"
      },
      "execution_count": null,
      "outputs": []
    },
    {
      "cell_type": "code",
      "source": [
        "from sklearn.metrics import classification_report\n",
        "print(classification_report(y_test, y_pred))"
      ],
      "metadata": {
        "id": "j_rzX8w0tPwq"
      },
      "execution_count": null,
      "outputs": []
    },
    {
      "cell_type": "code",
      "source": [
        "print(classification_report(y_train, y_train_pred))"
      ],
      "metadata": {
        "id": "L-xsBjvltjEb"
      },
      "execution_count": null,
      "outputs": []
    },
    {
      "cell_type": "markdown",
      "source": [
        "**KNN**"
      ],
      "metadata": {
        "id": "vjuPnF__tz6a"
      }
    },
    {
      "cell_type": "code",
      "source": [
        "df.head()"
      ],
      "metadata": {
        "id": "KVFpp1L5tvRC"
      },
      "execution_count": null,
      "outputs": []
    },
    {
      "cell_type": "code",
      "source": [
        "df2.Outcome.value_counts()"
      ],
      "metadata": {
        "id": "zpd2o6Dat4RG"
      },
      "execution_count": null,
      "outputs": []
    },
    {
      "cell_type": "code",
      "source": [
        "colors = [\"green\", \"purple\"]\n",
        "sns.countplot(df2.Outcome, palette= colors)\n",
        "plt.show()"
      ],
      "metadata": {
        "id": "AXFluf2KuOpv"
      },
      "execution_count": null,
      "outputs": []
    },
    {
      "cell_type": "code",
      "source": [
        "ND = df[df2.Outcome == 0]\n",
        "D = df[df2.Outcome == 1]"
      ],
      "metadata": {
        "id": "yu_dBmgnu58n"
      },
      "execution_count": null,
      "outputs": []
    },
    {
      "cell_type": "code",
      "source": [
        "plt.scatter(D.Age, D.Glucose, color = \"red\", label = \"Bad\")\n",
        "plt.scatter(ND.Age, ND.Glucose, color= \"green\", label = \"Good\")\n",
        "plt.xlabel(\"Age\")\n",
        "plt.ylabel(\"Glucose\")\n",
        "plt.legend()\n",
        "plt.show()"
      ],
      "metadata": {
        "id": "nmYEd9hPvLK_"
      },
      "execution_count": null,
      "outputs": []
    },
    {
      "cell_type": "code",
      "source": [
        "labels = [\"Healthy\", \"Diabetics\"]\n",
        "explode = [0, 0]\n",
        "sizes = df2.Outcome.value_counts().values"
      ],
      "metadata": {
        "id": "1Upuq_UwwG8O"
      },
      "execution_count": null,
      "outputs": []
    },
    {
      "cell_type": "code",
      "source": [
        "plt.figure(figsize=(7, 7))\n",
        "plt.pie(sizes, explode = explode, labels = labels, autopct = \"%1.1f%%\",)\n",
        "plt.title(\"Percentage of diagnosis diabetics\", color = \"orange\", fontsize=20)\n",
        "plt.show()"
      ],
      "metadata": {
        "id": "r7H9vXf2wp_h"
      },
      "execution_count": null,
      "outputs": []
    },
    {
      "cell_type": "markdown",
      "source": [
        "**Correlation Data**"
      ],
      "metadata": {
        "id": "U66sdH95xwLO"
      }
    },
    {
      "cell_type": "code",
      "source": [
        "corr = df2.corr().Outcome\n",
        "corr[np.argsort(corr, axis= 0)[:-1]]"
      ],
      "metadata": {
        "id": "Hjgj7BbPxrU-"
      },
      "execution_count": null,
      "outputs": []
    },
    {
      "cell_type": "code",
      "source": [
        ""
      ],
      "metadata": {
        "id": "DCwUnsTkxz6T"
      },
      "execution_count": null,
      "outputs": []
    }
  ]
}