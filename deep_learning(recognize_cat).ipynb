{
  "nbformat": 4,
  "nbformat_minor": 0,
  "metadata": {
    "colab": {
      "name": "d_l1.ipynb",
      "private_outputs": true,
      "provenance": [],
      "collapsed_sections": [],
      "authorship_tag": "ABX9TyOU9og+1YM1i/lbl/Fo4eu/",
      "include_colab_link": true
    },
    "kernelspec": {
      "name": "python3",
      "display_name": "Python 3"
    },
    "language_info": {
      "name": "python"
    },
    "accelerator": "GPU"
  },
  "cells": [
    {
      "cell_type": "markdown",
      "metadata": {
        "id": "view-in-github",
        "colab_type": "text"
      },
      "source": [
        "<a href=\"https://colab.research.google.com/github/Kamaridddin/Data-science/blob/main/deep_learning(recognize_cat).ipynb\" target=\"_parent\"><img src=\"https://colab.research.google.com/assets/colab-badge.svg\" alt=\"Open In Colab\"/></a>"
      ]
    },
    {
      "cell_type": "code",
      "source": [
        "import fastai\n",
        "fastai.__version__"
      ],
      "metadata": {
        "id": "VOQiQjuDgDaj"
      },
      "execution_count": null,
      "outputs": []
    },
    {
      "cell_type": "code",
      "source": [
        "!pip install fastai --upgrade"
      ],
      "metadata": {
        "id": "MeXk6hm4eAow"
      },
      "execution_count": null,
      "outputs": []
    },
    {
      "cell_type": "code",
      "execution_count": null,
      "metadata": {
        "id": "y4NvfrQBYain"
      },
      "outputs": [],
      "source": [
        "\n",
        "from fastai.vision.all import *\n",
        "from ipywidgets import widgets\n",
        "\n",
        "path = untar_data(URLs.PETS)/'images'\n",
        "\n",
        "def is_cat(x): return x[0].isupper()\n",
        "\n",
        "dls = ImageDataLoaders.from_name_func(\n",
        "    path, get_image_files(path), valid=0.2, seed=42,\n",
        "    label_func=is_cat, item_tfms=Resize(224)\n",
        ")\n",
        "learn = cnn_learner(dls, resnet34, metrics = accuracy)\n",
        "learn.fine_tune(2)"
      ]
    },
    {
      "cell_type": "code",
      "source": [
        "upload = widgets.FileUpload()\n",
        "upload"
      ],
      "metadata": {
        "id": "rE7x5UnlhZLI"
      },
      "execution_count": null,
      "outputs": []
    },
    {
      "cell_type": "code",
      "source": [
        "from PIL import Image\n",
        "!pip install PIL"
      ],
      "metadata": {
        "id": "V_ZPG51_juPe"
      },
      "execution_count": null,
      "outputs": []
    },
    {
      "cell_type": "code",
      "source": [
        "img = PILImage.create(upload.data[-1])\n",
        "pred, _, prob = learn.predict(img)\n",
        "print(f\"Mushukmi?:\", {pred})\n",
        "print(f'Acuracy of probablity: {prob[1].item():.3f}')\n",
        "img"
      ],
      "metadata": {
        "id": "aViSg-hth_82"
      },
      "execution_count": null,
      "outputs": []
    },
    {
      "cell_type": "markdown",
      "source": [
        "**Classic programming**"
      ],
      "metadata": {
        "id": "CzKEssR5u6UK"
      }
    },
    {
      "cell_type": "code",
      "source": [
        "from sklearn.datasets import make_regression\n",
        "import matplotlib.pyplot as plt\n",
        "\n",
        "#data\n",
        "\n",
        "data = make_regression(n_samples=40, n_features=1, noise=10, random_state=42)\n",
        "x_data, y_data = data[0], data[1]\n",
        "\n",
        "def classic_program(x): return x*70\n",
        "y_pred = [classic_program(x) for x in x_data]\n",
        "\n",
        "\n",
        "plt.scatter(x_data, y_data, label='Real data sets')\n",
        "plt.plot(x_data, y_pred, 'r', label='Program')\n",
        "plt.xlabel('X')\n",
        "plt.ylabel('Y')\n",
        "plt.legend()\n",
        "plt.title('x*70')"
      ],
      "metadata": {
        "id": "vmyFz_V7u5hz"
      },
      "execution_count": null,
      "outputs": []
    },
    {
      "cell_type": "markdown",
      "source": [
        "**Weight**"
      ],
      "metadata": {
        "id": "qWhNdzyxxz78"
      }
    },
    {
      "cell_type": "code",
      "source": [
        "from sklearn.datasets import make_regression\n",
        "import matplotlib.pyplot as plt\n",
        "\n",
        "#data\n",
        "\n",
        "data = make_regression(n_samples=40, n_features=1, noise=10, random_state =42)\n",
        "x_data, y_data = data[0], data[1]\n",
        "\n",
        "def weight_assaigned_program(x, w): return w*x*70\n",
        "\n",
        "w=1.3\n",
        "\n",
        "y_pred = [weight_assaigned_program(x, w) for x in x_data]\n",
        "\n",
        "plt.scatter(x_data, y_data, label='Real data  sets')\n",
        "plt.plot(x_data, y_pred, 'r', label='Weighted program')\n",
        "plt.xlabel('X')\n",
        "plt.ylabel('Y')\n",
        "plt.legend()\n",
        "plt.title(f'{w}*x*70')"
      ],
      "metadata": {
        "id": "9h9nxWXWvzFA"
      },
      "execution_count": null,
      "outputs": []
    },
    {
      "cell_type": "markdown",
      "source": [
        "**Machine learning**"
      ],
      "metadata": {
        "id": "bSSgrKbK0d_z"
      }
    },
    {
      "cell_type": "code",
      "source": [
        "from sklearn.datasets import make_regression\n",
        "from sklearn.linear_model import LinearRegression\n",
        "import matplotlib.pyplot as plt\n",
        "\n",
        "#data\n",
        "\n",
        "data = make_regression(n_samples=40, n_features=1, noise=10, random_state=42)\n",
        "x_data, y_data = data[0], data[1]\n",
        "\n",
        "#regression\n",
        "\n",
        "regression = LinearRegression().fit(x_data, y_data)\n",
        "y_pred = regression.predict(x_data)\n",
        "\n",
        "plt.scatter(x_data, y_data, label='Real data')\n",
        "plt.plot(x_data, y_pred, 'r', label = 'ML program')\n",
        "plt.xlabel('X')\n",
        "plt.ylabel('Y')\n",
        "plt.legend()\n",
        "equation = f'{regression.coef_[0]:.3f}x+{regression.intercept_:.3f}'\n",
        "plt.title(equation)"
      ],
      "metadata": {
        "id": "7wq1Z1-s0AZn"
      },
      "execution_count": null,
      "outputs": []
    },
    {
      "cell_type": "markdown",
      "source": [
        "**Deep learning**"
      ],
      "metadata": {
        "id": "5MgSZATv4AoL"
      }
    },
    {
      "cell_type": "code",
      "source": [
        "from sklearn.datasets import make_regression\n",
        "from sklearn.neural_network import MLPRegressor\n",
        "import matplotlib.pyplot as plt\n",
        "\n",
        "#data\n",
        "\n",
        "data = make_regression(n_samples=40, n_features=1, noise=10, random_state=42)\n",
        "x_data, y_data = data[0], data[1]\n",
        "\n",
        "regression = MLPRegressor(max_iter=2000).fit(x_data, y_data)\n",
        "\n",
        "plt.scatter(x_data, y_data, label='Real data sets')\n",
        "plt.plot(x_data, y_pred, 'r', label='DL program')\n",
        "plt.xlabel('X')\n",
        "plt.ylabel('Y')\n",
        "plt.legend()"
      ],
      "metadata": {
        "id": "9-dL96mh33g7"
      },
      "execution_count": null,
      "outputs": []
    },
    {
      "cell_type": "code",
      "source": [
        "from fastai.vision.all import *\n",
        "from ipywidgets import widgets\n",
        "\n",
        "# data\n",
        "path = untar_data(URLs.PETS)/'images'\n",
        "\n",
        "def is_cat(x): return x[0].isupper()\n",
        "\n",
        "\n",
        "dls = ImageDataLoaders.from_name_func(\n",
        "    path, get_image_files(path), valid=0.2, seed=42, \n",
        "    label_func=is_cat, item_tfms=Resize(224)\n",
        ")\n",
        "\n",
        "# (train)\n",
        "learn = cnn_learner(dls, resnet34, metrics=accuracy)\n",
        "learn.fine_tune(2)"
      ],
      "metadata": {
        "id": "LqKG9EP24EtF"
      },
      "execution_count": null,
      "outputs": []
    },
    {
      "cell_type": "code",
      "source": [
        "from fastai.vision.all import *\n",
        "from ipywidgets import widgets"
      ],
      "metadata": {
        "id": "ip5kj-KT7Vmk"
      },
      "execution_count": null,
      "outputs": []
    },
    {
      "cell_type": "code",
      "source": [
        "path = untar_data(URLs.PETS)/'images'"
      ],
      "metadata": {
        "id": "RMAGKVSw8nyc"
      },
      "execution_count": null,
      "outputs": []
    },
    {
      "cell_type": "code",
      "source": [
        "def is_cat(x): return x[0].isupper() \n",
        "\n",
        "dls = ImageDataLoaders.from_name_func(\n",
        "    path, get_image_files(path), valid_pct=0.2, seed=42, \n",
        "    label_func=is_cat, item_tfms=Resize(224))"
      ],
      "metadata": {
        "id": "tbLDnWVV8r0S"
      },
      "execution_count": null,
      "outputs": []
    },
    {
      "cell_type": "code",
      "source": [
        "learn = cnn_learner(dls, resnet34, metrics = accuracy)"
      ],
      "metadata": {
        "id": "7GsQNBG98zXK"
      },
      "execution_count": null,
      "outputs": []
    },
    {
      "cell_type": "code",
      "source": [
        "learn.fine_tune(2)"
      ],
      "metadata": {
        "id": "euah6rek9CuP"
      },
      "execution_count": null,
      "outputs": []
    },
    {
      "cell_type": "code",
      "source": [
        ""
      ],
      "metadata": {
        "id": "th1BPCth9JWI"
      },
      "execution_count": null,
      "outputs": []
    }
  ]
}